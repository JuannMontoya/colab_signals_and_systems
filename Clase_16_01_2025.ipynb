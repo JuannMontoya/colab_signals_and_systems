{
  "nbformat": 4,
  "nbformat_minor": 0,
  "metadata": {
    "colab": {
      "provenance": [],
      "authorship_tag": "ABX9TyOV1Egbi7acFDHYIVbbl2Ck",
      "include_colab_link": true
    },
    "kernelspec": {
      "name": "python3",
      "display_name": "Python 3"
    },
    "language_info": {
      "name": "python"
    }
  },
  "cells": [
    {
      "cell_type": "markdown",
      "metadata": {
        "id": "view-in-github",
        "colab_type": "text"
      },
      "source": [
        "<a href=\"https://colab.research.google.com/github/JuannMontoya/colab_signals_and_systems/blob/main/Clase_16_01_2025.ipynb\" target=\"_parent\"><img src=\"https://colab.research.google.com/assets/colab-badge.svg\" alt=\"Open In Colab\"/></a>"
      ]
    },
    {
      "cell_type": "markdown",
      "source": [
        "\n",
        "TALLER 2\n",
        "--\n",
        "2.1\n",
        "--\n",
        "Explique las semejanzas y diferencias entre la serie de Fourier (exponencial, trigonométrica y compacta) y la transformada de Fourier, transformada de Fourier en tiempo discreto (DTFT) y transformada discreta de Fourier (DFT). Considere las diferentes combinaciones entre: espectro continuo y discreto y señal en tiempo continuo y discreto. Además, consulte en qué consiste el algoritmo Fast Fourier Transform - (FFT) y su utilidad para el cálculo de la transformada discreta de Fourier. Explique en detalle el algoritmo FFT y su costo computacional vs el de la transformada discreta. Ver cuaderno Serie y transformada de Fourier."
      ],
      "metadata": {
        "id": "naiMiCpj_AgC"
      }
    },
    {
      "cell_type": "markdown",
      "source": [
        "SEMEJANZAS\n",
        "--\n",
        "\n",
        "*  Todas buscan representar señales en el dominio de la frecuencia, perimitiendo analizar y procesar señales desde una perspectiva espectral.\n",
        "*   Se descompone una señal en base de senos y cosenos o exponenciales complejas\n",
        "\n",
        "\n",
        "---\n",
        "Diferencias\n",
        "--\n",
        "\n",
        "\n",
        "*   La serie de fourier aplica en señales de tiempo continuo y frecuencia discreta\n",
        "*   La transformada de fourier aplica en señales diferentes de tiempo continuo y frecuencia discreta\n",
        "*   La transformada de furier en tiempo discreto funciona para tiempo discreto unicamente\n",
        "*   la serie de fourier aplica a señales con periodicas unicamente, la transformada de fourier a señales aperiodicas y DFFT a cualquier señal discreta\n",
        "\n",
        "\n",
        "\n",
        "\n",
        "\n",
        "\n"
      ],
      "metadata": {
        "id": "6Os6Y_Tr_YP1"
      }
    },
    {
      "cell_type": "markdown",
      "source": [
        "Fast Fourier Transform (FFT)\n",
        "--\n",
        "La \"Transformación rápida de Fourier\", FFT para abreviar, es un importante método de medición en la tecnología de medición de audio y acústica. Descompone una señal en sus componentes espectrales individuales y así proporciona información sobre su composición. Los FFT se utilizan para el análisis de errores, el control de calidad y la monitorización de las condiciones de las máquinas o sistemas.\n",
        "\n",
        "La FFT es ampliamente utilizada en el procesamiento de señales digitales, análisis espectral, compresión de datos y muchas otras aplicaciones. Su eficiencia la hace ideal para procesar grandes conjuntos de datos.\n",
        "\n",
        "# Costo computacional\n",
        "\n",
        "La FFT tiene un costo computacional de O(N log N), mientras que la DFT tiene un costo computacional de O(N^2). Esto significa que la FFT es mucho más rápida que la DFT, especialmente para señales grandes."
      ],
      "metadata": {
        "id": "ixSypMM-M4KQ"
      }
    }
  ]
}